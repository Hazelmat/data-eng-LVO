{
 "cells": [
  {
   "cell_type": "code",
   "execution_count": null,
   "id": "13b8c2dd-dccc-4b62-8ce2-71149fdfdb8d",
   "metadata": {},
   "outputs": [],
   "source": [
    "import requests\n",
    "import pandas as pd"
   ]
  },
  {
   "cell_type": "code",
   "execution_count": null,
   "id": "42380e4b-8468-4e0a-b1c6-044ab888d173",
   "metadata": {},
   "outputs": [],
   "source": [
    "# Load the dataset\n",
    "file_path = \"POI+sample+addresses+and+locations.csv\"\n",
    "data = pd.read_csv(file_path)"
   ]
  },
  {
   "cell_type": "code",
   "execution_count": null,
   "id": "6ca7760c-beea-40d2-b7be-9aa18b7c0b81",
   "metadata": {},
   "outputs": [],
   "source": [
    "len(data[\"st_x\"].unique().tolist())"
   ]
  },
  {
   "cell_type": "code",
   "execution_count": null,
   "id": "57ba384e-0e32-4841-9af8-efda937f2875",
   "metadata": {},
   "outputs": [],
   "source": [
    "invalid_geo_data = data[\n",
    "    (data[\"st_x\"].isnull())\n",
    "    | (data[\"st_y\"].isnull())\n",
    "    | (data[\"st_x\"] < -180)\n",
    "    | (data[\"st_x\"] > 180)\n",
    "    | (data[\"st_y\"] < -90)\n",
    "    | (data[\"st_y\"] > 90)\n",
    "]\n",
    "\n",
    "len(invalid_geo_data)"
   ]
  },
  {
   "cell_type": "code",
   "execution_count": null,
   "id": "ef0b116a-af16-4a49-8fee-aac998e9d678",
   "metadata": {},
   "outputs": [],
   "source": [
    "invalid_address_data = data[\n",
    "    data[\"adresse\"].isnull()\n",
    "    | data[\"adresse\"].str.strip().eq(\"\")\n",
    "    | data[\"code_postal\"].isnull()\n",
    "    | (data[\"code_postal\"] < 1000)\n",
    "    | (data[\"code_postal\"] > 99999)\n",
    "    | data[\"ville\"].isnull()\n",
    "    | data[\"ville\"].str.strip().eq(\"\")\n",
    "]\n",
    "\n",
    "invalid_address_data.head()"
   ]
  },
  {
   "cell_type": "code",
   "execution_count": null,
   "id": "fad14eab-f95b-4100-8d52-2416053603a5",
   "metadata": {},
   "outputs": [],
   "source": [
    "data"
   ]
  },
  {
   "cell_type": "code",
   "execution_count": null,
   "id": "4a8e46b1-b09c-415d-a9fd-7092d69910b9",
   "metadata": {},
   "outputs": [],
   "source": [
    "# Function to parse the API response and extract relevant address data\n",
    "def parse_ban_response(response):\n",
    "    addresses = []\n",
    "\n",
    "    for feature in response.get(\"features\", []):\n",
    "        address_data = {\n",
    "            \"label\": feature[\"properties\"].get(\"label\", \"\"),\n",
    "            \"coordinates\": feature[\"geometry\"].get(\"coordinates\", []),\n",
    "            \"postcode\": feature[\"properties\"].get(\"postcode\", \"\"),\n",
    "            \"city\": feature[\"properties\"].get(\"city\", \"\"),\n",
    "            \"street\": feature[\"properties\"].get(\"street\", \"\"),\n",
    "            \"score\": feature[\"properties\"].get(\"score\", 0),\n",
    "        }\n",
    "        addresses.append(address_data)\n",
    "\n",
    "    return addresses\n",
    "\n",
    "\n",
    "# Function to normalize an address using the BAN API\n",
    "def normalize_address(address, postcode, ville):\n",
    "    response = requests.get(f\"https://api-adresse.data.gouv.fr/search/?q={address} {postcode} {ville}\")\n",
    "    if response.status_code == 200:\n",
    "        return parse_ban_response(response.json())  # Parse the normalized address\n",
    "    else:\n",
    "        return None  # Handle errors\n",
    "\n",
    "\n",
    "# Function to correct geolocation\n",
    "def correct_geolocation(latitude, longitude):\n",
    "    response = requests.get(f\"https://api-adresse.data.gouv.fr/reverse/?lat={latitude}&lon={longitude}\")\n",
    "    if response.status_code == 200:\n",
    "        return parse_ban_response(response.json())  # Parse the corrected geolocation\n",
    "    else:\n",
    "        return None  # Handle errors"
   ]
  },
  {
   "cell_type": "code",
   "execution_count": null,
   "id": "bc7afe61-1735-4659-a4d6-e8967857c6dc",
   "metadata": {},
   "outputs": [],
   "source": [
    "longitude, latitude = 4.0874698, 45.6094812\n",
    "response = requests.get(f\"https://api-adresse.data.gouv.fr/reverse/?lat={latitude}&lon={longitude}\")\n",
    "response.json()"
   ]
  },
  {
   "cell_type": "code",
   "execution_count": null,
   "id": "950eeb4c-bf3b-4fb7-b6e8-3c282aa63517",
   "metadata": {},
   "outputs": [],
   "source": [
    "l = \"\"\"identifiant_unique,adresse,adresse_complement,code_postal,ville,st_x,st_y,latitude,longitude,result_label,result_score,result_score_next,result_type,result_id,result_housenumber,result_name,result_street,result_postcode,result_city,result_context,result_citycode,result_oldcitycode,result_oldcity,result_district,result_status\n",
    "lescreadevicky_203741_reparation_0633175984,3 IMPASSE DES TUILIERS,,71210,MONTCHANIN,4.46914,46.758914,46.758914,4.46914,3 Impasse des Tuiliers 71210 Montchanin,0.9459581818181817,,housenumber,71310_0371_00003,3,3 Impasse des Tuiliers,Impasse des Tuiliers,71210,Montchanin,\"71, Saône-et-Loire, Bourgogne-Franche-Comté\",71310,,,,ok\n",
    "bijouterie_obrecht_93995_reparation,24 RUE DE LA GARE,,68690,MOOSCH,7.051734,47.861574,47.861686,7.051751,24 Rue de la Gare 68690 Moosch,0.9560809090909091,0.6494824242424242,housenumber,68217_0080_00024,24,24 Rue de la Gare,Rue de la Gare,68690,Moosch,\"68, Haut-Rhin, Grand Est\",68217,,,,ok\n",
    "amberley_design_services_172205_reparation_0546861272,4 LA TAILLEZERIE,,17150,BOISREDON,-0.5355886,45.3303143,45.330382,-0.537904,4 la Taillezerie 17150 Boisredon,0.9412099999999999,,housenumber,17052_fidjzi_00004,4,4 la Taillezerie,la Taillezerie,17150,Boisredon,\"17, Charente-Maritime, Nouvelle-Aquitaine\",17052,,,,ok\n",
    "bijoux_enora_19597_reparation_0669640932,2 CHEMIN DES VIRGILES,LE CAPET D AZUR BAT H23,83120,SAINTE MAXIME,6.6280625,43.3130868,43.313837,6.628483,2 Chemin des Virgiles 83120 Sainte-Maxime,0.5893362695924764,,housenumber,83115_1031_00002,2,2 Chemin des Virgiles,Chemin des Virgiles,83120,Sainte-Maxime,\"83, Var, Provence-Alpes-Côte d'Azur\",83115,,,,ok\n",
    "simonet_lionel_213050_reparation_0680960766,66 RUE DU PARC,,77360,VAIRES SUR MARNE,2.63824,48.866954,48.866954,2.63824,66 Rue du Parc 77360 Vaires-sur-Marne,0.9654054545454546,,housenumber,77479_0480_00066,66,66 Rue du Parc,Rue du Parc,77360,Vaires-sur-Marne,\"77, Seine-et-Marne, Île-de-France\",77479,,,,ok\n",
    "sarl_bimob_60746_reparation_0232580314,30 B RUE HYPPOLITE LOZIER,,27320,NONANCOURT,1.192711,48.773491,48.773222,1.192855,30bis R Hyppolite Lozier 27320 Nonancourt,0.7317390909090908,,housenumber,27438_0045_00030_bis,30bis,30bis R Hyppolite Lozier,R Hyppolite Lozier,27320,Nonancourt,\"27, Eure, Normandie\",27438,,,,ok\n",
    "bernard_emilie_139818_reparation_0676243532,1 DOMAINE DES CHAMPS FLEURIS,,42600,SAVIGNEUX,4.0874698,45.6094812,45.60926,4.087256,1 Domaine des Champs Fleuris 42600 Savigneux,0.9537290909090909,,housenumber,42299_a010_00001,1,1 Domaine des Champs Fleuris,Domaine des Champs Fleuris,42600,Savigneux,\"42, Loire, Auvergne-Rhône-Alpes\",42299,,,,ok\n",
    "bernard_emilie139818rfrfrf_reparation_0676243532,,,,,4.0874688,45.6094812,,,,,,,,,,,,,,,,,,skipped\n",
    "\"\"\""
   ]
  },
  {
   "cell_type": "code",
   "execution_count": null,
   "id": "6394491e-3ed3-4c77-b4a5-e7f12ec319cb",
   "metadata": {},
   "outputs": [],
   "source": [
    "import io\n",
    "import csv"
   ]
  },
  {
   "cell_type": "code",
   "execution_count": null,
   "id": "447e6caf-3e18-415c-8c9f-a8283f517592",
   "metadata": {},
   "outputs": [],
   "source": [
    "reader = csv.DictReader(io.StringIO(l))"
   ]
  },
  {
   "cell_type": "code",
   "execution_count": null,
   "id": "0bd96c13-950d-4801-8f1e-efae5597f9ae",
   "metadata": {},
   "outputs": [],
   "source": [
    "for r in reader:\n",
    "    print(r)"
   ]
  },
  {
   "cell_type": "code",
   "execution_count": null,
   "id": "b35b44cd-748f-46d5-97c4-3d1ef44ed354",
   "metadata": {},
   "outputs": [],
   "source": [
    "# Iterate over each row in the dataset to normalize addresses and correct geolocations\n",
    "for index, row in data[:100].iterrows():\n",
    "    # Normalize address\n",
    "    normalized_addresses = normalize_address(row[\"adresse\"], row[\"code_postal\"], row[\"ville\"])\n",
    "    if normalized_addresses:\n",
    "        # Example: Update address fields in the dataframe with the first result\n",
    "        data.at[index, \"normalized_address\"] = normalized_addresses[0][\"label\"]\n",
    "        data.at[index, \"normalized_postcode\"] = normalized_addresses[0][\"postcode\"]\n",
    "        data.at[index, \"normalized_city\"] = normalized_addresses[0][\"city\"]\n",
    "\n",
    "    # Correct geolocation\n",
    "    corrected_geos = correct_geolocation(row[\"st_y\"], row[\"st_x\"])\n",
    "    if corrected_geos:\n",
    "        # Example: Update geolocation fields in the dataframe with the first result\n",
    "        data.at[index, \"corrected_lat\"] = corrected_geos[0][\"coordinates\"][1]\n",
    "        data.at[index, \"corrected_lon\"] = corrected_geos[0][\"coordinates\"][0]"
   ]
  },
  {
   "cell_type": "code",
   "execution_count": null,
   "id": "325eb85a-e20c-4c91-83dd-2374a4afb24f",
   "metadata": {},
   "outputs": [],
   "source": [
    "data"
   ]
  },
  {
   "cell_type": "code",
   "execution_count": null,
   "id": "d3afcf4e-7253-4b2f-94f9-3543c2857f01",
   "metadata": {},
   "outputs": [],
   "source": [
    "# Iterate over each row in the dataset to normalize addresses and correct geolocation"
   ]
  }
 ],
 "metadata": {
  "kernelspec": {
   "display_name": "Python 3 (ipykernel)",
   "language": "python",
   "name": "python3"
  },
  "language_info": {
   "codemirror_mode": {
    "name": "ipython",
    "version": 3
   },
   "file_extension": ".py",
   "mimetype": "text/x-python",
   "name": "python",
   "nbconvert_exporter": "python",
   "pygments_lexer": "ipython3",
   "version": "3.9.17"
  }
 },
 "nbformat": 4,
 "nbformat_minor": 5
}
